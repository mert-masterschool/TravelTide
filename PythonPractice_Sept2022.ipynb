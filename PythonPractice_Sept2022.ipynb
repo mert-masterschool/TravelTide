{
 "cells": [
  {
   "cell_type": "markdown",
   "id": "d0e8c3a5-80a2-4cc7-96a4-c7adeed76c98",
   "metadata": {},
   "source": [
    "<img src='https://www.newspostonline.com/wp-content/uploads/2022/07/python-frameworks.jpeg'>"
   ]
  },
  {
   "cell_type": "markdown",
   "id": "d8b1e14e-c76f-4210-b47c-aac496d0af53",
   "metadata": {},
   "source": [
    "# Python Practice Problems\n",
    "**Practice Week: September 26, 2022 - October 2, 2022**\n",
    "\n",
    "<br>"
   ]
  },
  {
   "cell_type": "markdown",
   "id": "622455dd-7c5c-4aad-8923-073132c19ecf",
   "metadata": {
    "tags": []
   },
   "source": [
    "## Part 1: Python Fundamentals\n",
    "\n",
    "These problems are from <a href=\"https://www.codewars.com/kata\">Codewars</a>, a great platform for coding practice. We will share the instructor solutions, but you can create an account to view the community solutions as well."
   ]
  },
  {
   "cell_type": "markdown",
   "id": "b12188fc-413f-4aae-a7a1-273262ec5ee8",
   "metadata": {},
   "source": [
    "<br>\n",
    "<img src='https://ak.picdn.net/shutterstock/videos/1012738667/thumb/4.jpg'>"
   ]
  },
  {
   "cell_type": "markdown",
   "id": "bec8fb81-ccfd-4e76-a054-cb6d279f2725",
   "metadata": {},
   "source": [
    "### Question 1: <a href=\"https://www.codewars.com/kata/582cb0224e56e068d800003c\">Keep Hydrated!</a>"
   ]
  },
  {
   "cell_type": "code",
   "execution_count": 174,
   "id": "f94b8125-447e-4698-b09d-fb4695dc8385",
   "metadata": {},
   "outputs": [],
   "source": []
  },
  {
   "cell_type": "markdown",
   "id": "293aa413-b63b-450b-9912-4a49ab6ca577",
   "metadata": {},
   "source": [
    "<br>\n",
    "<br>\n",
    "<img src='https://securityintelligence.com/wp-content/uploads/2015/09/needleinahaystack_182621.jpg'>"
   ]
  },
  {
   "cell_type": "markdown",
   "id": "6d2fc7b6-73e8-4f52-a221-846a6e3aea84",
   "metadata": {},
   "source": [
    "### Question 2: <a href=\"https://www.codewars.com/kata/56676e8fabd2d1ff3000000c\">A Needle in the Haystack</a>"
   ]
  },
  {
   "cell_type": "code",
   "execution_count": 178,
   "id": "ca11fc97-ff17-4213-8160-c06ce07b32c4",
   "metadata": {},
   "outputs": [],
   "source": []
  },
  {
   "cell_type": "markdown",
   "id": "9c564408-1220-44c9-8c7c-fbe4c70cebd1",
   "metadata": {},
   "source": [
    "<br>\n",
    "<br>\n",
    "<img src='https://i0.wp.com/post.healthline.com/wp-content/uploads/2019/08/DNA-01.jpg?w=1155'>"
   ]
  },
  {
   "cell_type": "markdown",
   "id": "7d4232d3-b896-45df-b0bc-d50c6fd336de",
   "metadata": {},
   "source": [
    "### Question 3: <a href=\"https://www.codewars.com/kata/554e4a2f232cdd87d9000038\">Complementary DNA</a>\n",
    "\n",
    "**Additional Challenge**: Validate whether the DNA sequence input is valid (each letter one of A, T, C, G)"
   ]
  },
  {
   "cell_type": "code",
   "execution_count": 51,
   "id": "9e592038-d646-405a-957b-23bb9f24a7ac",
   "metadata": {},
   "outputs": [],
   "source": []
  },
  {
   "cell_type": "markdown",
   "id": "07ed7b95-ea1f-4c4a-ba0e-0148905e0796",
   "metadata": {},
   "source": [
    "<br>\n",
    "<br>\n",
    "<img src='https://dynaimage.cdn.cnn.com/cnn/c_fill,g_auto,w_1200,h_675,ar_16:9/https%3A%2F%2Fcdn.cnn.com%2Fcnnnext%2Fdam%2Fassets%2F190430094912-20190430-instagram-likes-instory-v2.jpg'>"
   ]
  },
  {
   "cell_type": "markdown",
   "id": "d4b26b58-3d4f-46c1-9e1f-9f807c0afc45",
   "metadata": {},
   "source": [
    "### Question 4: <a href=\"https://www.codewars.com/kata/5266876b8f4bf2da9b000362\">Who likes it?</a>\n",
    "\n",
    "**Additional challenge**: Add validation to check whether the input is a list of strings"
   ]
  },
  {
   "cell_type": "code",
   "execution_count": 16,
   "id": "6ba99940-4ff2-466b-ab67-9300b950c6e0",
   "metadata": {},
   "outputs": [],
   "source": []
  },
  {
   "cell_type": "markdown",
   "id": "97970bec-6724-4cc5-b42f-4fae4f15b872",
   "metadata": {},
   "source": [
    "<br>\n",
    "<br>\n",
    "<img src='https://schools.wrdsb.ca/athome/files/2020/05/Digital-Roots-Exploration-.png'>"
   ]
  },
  {
   "cell_type": "markdown",
   "id": "bf15af00-846c-42a1-b659-1a89f2c719aa",
   "metadata": {},
   "source": [
    "### Question 5: <a href=\"https://www.codewars.com/kata/541c8630095125aba6000c00\">Digital Root</a>\n",
    "\n",
    "**Additional Challenge**: Use <a href=\"https://www.w3schools.com/python/gloss_python_function_recursion.asp\">Recursion</a>"
   ]
  },
  {
   "cell_type": "code",
   "execution_count": 162,
   "id": "bdfd219e-7671-44af-9e3a-40cbee0f80cf",
   "metadata": {},
   "outputs": [],
   "source": []
  },
  {
   "cell_type": "markdown",
   "id": "03f01497-a53f-4520-bc6e-642f95e4fdd4",
   "metadata": {},
   "source": [
    "<br>\n",
    "<br>\n",
    "<img src='https://www.yourfreecareertest.com/wp-content/uploads/2017/05/baker.jpg'>"
   ]
  },
  {
   "cell_type": "markdown",
   "id": "716d2726-55bf-44a4-a2e4-bf0c34fec94a",
   "metadata": {},
   "source": [
    "### Question 6: <a href=\"https://www.codewars.com/kata/525c65e51bf619685c000059\">Pete, the baker</a>"
   ]
  },
  {
   "cell_type": "code",
   "execution_count": 166,
   "id": "2840910e-3dcf-4f9c-b620-d3554dae3d63",
   "metadata": {},
   "outputs": [],
   "source": []
  },
  {
   "cell_type": "markdown",
   "id": "7e604692-95d8-46fa-90af-05fa8138ed9b",
   "metadata": {},
   "source": [
    "<br>\n",
    "<br>\n",
    "<br>\n",
    "<img src='https://i.stack.imgur.com/1Qajl.png'>"
   ]
  },
  {
   "cell_type": "markdown",
   "id": "99219c42-bb9f-4a92-b230-4d49881e6fd7",
   "metadata": {},
   "source": [
    "### Question 7 (Challenge): <a href=\"https://www.codewars.com/kata/52b7ed099cdc285c300001cd\">Sum of Intervals</a>\n",
    "\n",
    "**Hints**:\n",
    "- Create an helper function find_overlaps() that takes a single interval and compares it to the remaining intervals one at a time, and merges the first overlapping intervals it finds. For example, find_overlaps([1,5], [[2,6], [0,1]]) should return [[1,6], [0,1]]. You can also choose to have it return whether or not it found an overlap.\n",
    "- Then, call find_overlaps() in sum_intervals() for each interval."
   ]
  },
  {
   "cell_type": "code",
   "execution_count": 125,
   "id": "609ed98e-8572-4060-a3e5-6d8685321a2a",
   "metadata": {},
   "outputs": [],
   "source": [
    "def find_overlaps(a, interval_list):\n",
    "    \"\"\"\n",
    "    Compares the interval a to the list of intervals in interval_list. \n",
    "    Once one overlap is found:\n",
    "        the intervals are merged and the reduced list is returned\n",
    "    If no overlaps are found:\n",
    "        a is appended to the list, and the list is returned\n",
    "\n",
    "    Args:\n",
    "        a: list of length 2 that represents an interval\n",
    "        interval_list: list of lists that represents a list of intervals\n",
    "\n",
    "    Returns: a tuple (overlap, interval_list)\n",
    "        overlap: boolean indicating whether an overlap was found\n",
    "        interval_list: the modified list of intervals\n",
    "    \"\"\"\n",
    "    \n",
    "    return overlap, interval_list\n",
    "\n",
    "\n",
    "def sum_intervals(intervals):\n",
    "    \"\"\"\n",
    "    Takes a list of intervals and returns the sum of the interval lengths,\n",
    "    after combining overlapping intervals.\n",
    "\n",
    "    Args:\n",
    "        intervals: list of lists that represents a list of intervals\n",
    "\n",
    "    Returns:\n",
    "        sum_after_overlaps: int representing the sum\n",
    "    \"\"\"\n",
    "    \n",
    "    return sum_after_overlaps"
   ]
  },
  {
   "cell_type": "markdown",
   "id": "59f68283-b40b-43ef-9321-8115ee60986f",
   "metadata": {},
   "source": [
    "<br><br>\n",
    "<center><img src='https://thumbs.dreamstime.com/b/international-business-world-flags-globe-travel-services-management-concept-vector-eps-54034810.jpg' width=\"400\"></center>"
   ]
  },
  {
   "cell_type": "markdown",
   "id": "a9d4dafe-21d1-4ba3-b206-5ba4c6f8f444",
   "metadata": {
    "tags": []
   },
   "source": [
    "## Part 2: Pandas\n",
    "\n",
    "For this section, we will be using the <a href=\"https://archive.ics.uci.edu/ml/datasets/Flags\">Flags Data Set (1986)</a> from UCI. Click the link to read more about the columns and what they mean."
   ]
  },
  {
   "cell_type": "markdown",
   "id": "cfa64f83-0ad9-4225-9937-54e50d82d6e5",
   "metadata": {},
   "source": [
    "### Step 1: Import Pandas and the dataset\n",
    "\n",
    "Import the Pandas package, then import the data with read_csv(). Print out the first 10 rows. \n",
    "\n",
    "Link to the CSV:\n",
    "\n",
    "`https://archive.ics.uci.edu/ml/machine-learning-databases/flags/flag.data`\n",
    "\n",
    "Here is a list of the columns for your convenience: \n",
    "\n",
    "`'name', 'landmass', 'zone', 'area', 'population', 'language', 'religion', 'bars', 'stripes', 'colours', 'red', 'green', 'blue', 'gold', 'white', 'black', 'orange', 'mainhue', 'circles', 'crosses', 'saltires', 'quarters', 'sunstars', 'crescent', 'triangle', 'icon', 'animate', 'text', 'topleft', 'botright'`"
   ]
  },
  {
   "cell_type": "code",
   "execution_count": null,
   "id": "2b5ea774-a83f-4746-8295-9f14819e288a",
   "metadata": {},
   "outputs": [],
   "source": []
  },
  {
   "cell_type": "markdown",
   "id": "d041facc-00d7-426c-ae39-93eeac06ae14",
   "metadata": {},
   "source": [
    "<br>\n",
    "\n",
    "### Step 2: Data Cleaning - Checks and Preparation\n",
    "\n",
    "#### Question 1\n",
    "\n",
    "Do any of the columns have missing values? What are the data types of the columns?"
   ]
  },
  {
   "cell_type": "code",
   "execution_count": null,
   "id": "e3d8f9f4-1a1e-4d99-80cd-2380d24da48d",
   "metadata": {},
   "outputs": [],
   "source": []
  },
  {
   "cell_type": "markdown",
   "id": "388f2578-5429-4bdc-a40d-5afa6ff5b656",
   "metadata": {
    "tags": []
   },
   "source": [
    "#### Question 2\n",
    "\n",
    "Many of the integer columns are representing true/false values using 1/0. Convert those columns to boolean data types. \n",
    "\n",
    "**Bonus:** use a for loop!"
   ]
  },
  {
   "cell_type": "code",
   "execution_count": null,
   "id": "26d66716-8834-493f-83f9-1b5f1fe9d24d",
   "metadata": {},
   "outputs": [],
   "source": []
  },
  {
   "cell_type": "markdown",
   "id": "fb52e6a9-02c6-44fa-963e-6ad1dc84d84c",
   "metadata": {
    "tags": []
   },
   "source": [
    "#### Question 3\n",
    "\n",
    "Many of the integer columns are representing categorical values using codes. Translate those columns to use their labels. For example, for `landmass`, instead of using `1,2,3,...`, it should show `'N.America', 'S.America', 'Europe',...`.\n",
    "\n",
    "**Hint:** use the .map() method <br>\n",
    "**Note:** there is a typo in the Attribute Information - `4=Asia` should be `5=Asia`"
   ]
  },
  {
   "cell_type": "code",
   "execution_count": null,
   "id": "3de0cba7-b2b7-4eaf-a80d-c02b106988ee",
   "metadata": {},
   "outputs": [],
   "source": []
  },
  {
   "cell_type": "markdown",
   "id": "8a2d0142-4969-49ef-a458-049825667884",
   "metadata": {},
   "source": [
    "<br>\n",
    "\n",
    "### Step 3: Data Insights\n",
    "\n",
    "Helpful methods for this section:\n",
    "- .value_counts()\n",
    "- .groupby()\n",
    "- .size()\n",
    "- .mean()\n",
    "\n",
    "#### Question 1\n",
    "\n",
    "Count how many flags there are by landmass. Which landmass has the most flags?"
   ]
  },
  {
   "cell_type": "code",
   "execution_count": null,
   "id": "5a7c13d2-b4d7-4476-bf98-2cb3dd75b9b3",
   "metadata": {},
   "outputs": [],
   "source": []
  },
  {
   "cell_type": "markdown",
   "id": "6ff4b32c-bf4f-4946-a6b9-209fafcc2cd4",
   "metadata": {},
   "source": [
    "#### Question 2\n",
    "\n",
    "Count how many flags there are by landmass and mainhue. Which landmasses have any flags where the dominant color is orange?"
   ]
  },
  {
   "cell_type": "code",
   "execution_count": null,
   "id": "70d383a7-196e-4627-a5b6-63a3b6f223bd",
   "metadata": {},
   "outputs": [],
   "source": []
  },
  {
   "cell_type": "markdown",
   "id": "8fa5a3dc-d322-44d3-9cde-64ef14fd78b0",
   "metadata": {},
   "source": [
    "#### Question 3\n",
    "\n",
    "Calculate the percent of flags have each color, grouped by landmass. For each color, which landmass has the highest percentage?\n",
    "\n",
    "For example, Europe has the highest percentage of flags with red, at 82.85%."
   ]
  },
  {
   "cell_type": "code",
   "execution_count": null,
   "id": "2568e3d9-2adf-465c-963b-d01c446f586a",
   "metadata": {},
   "outputs": [],
   "source": []
  },
  {
   "cell_type": "markdown",
   "id": "7e8aedde-a327-447a-95ed-fd684927faa8",
   "metadata": {},
   "source": [
    "#### Question 4\n",
    "\n",
    "Which countries have flags with all the colors?"
   ]
  },
  {
   "cell_type": "code",
   "execution_count": null,
   "id": "7718c5f3-f87d-4ec7-8a7a-2bec2406454f",
   "metadata": {},
   "outputs": [],
   "source": []
  },
  {
   "cell_type": "markdown",
   "id": "6bc66049-52ac-4dbf-8ac3-a0044112c8bf",
   "metadata": {
    "tags": []
   },
   "source": [
    "#### Question 5\n",
    "\n",
    "What are you curious about in this dataset? Think of a question you have about the data, and answer it!"
   ]
  },
  {
   "cell_type": "code",
   "execution_count": null,
   "id": "8f0a61f3-4240-475e-8f12-dc825b90707e",
   "metadata": {},
   "outputs": [],
   "source": []
  }
 ],
 "metadata": {
  "kernelspec": {
   "display_name": "Python 3 (ipykernel)",
   "language": "python",
   "name": "python3"
  },
  "language_info": {
   "codemirror_mode": {
    "name": "ipython",
    "version": 3
   },
   "file_extension": ".py",
   "mimetype": "text/x-python",
   "name": "python",
   "nbconvert_exporter": "python",
   "pygments_lexer": "ipython3",
   "version": "3.9.12"
  }
 },
 "nbformat": 4,
 "nbformat_minor": 5
}
